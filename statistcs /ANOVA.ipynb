{
  "nbformat": 4,
  "nbformat_minor": 0,
  "metadata": {
    "colab": {
      "provenance": [],
      "authorship_tag": "ABX9TyMkbTORMhjR83DOOeyMgJCG",
      "include_colab_link": true
    },
    "kernelspec": {
      "name": "python3",
      "display_name": "Python 3"
    },
    "language_info": {
      "name": "python"
    }
  },
  "cells": [
    {
      "cell_type": "markdown",
      "metadata": {
        "id": "view-in-github",
        "colab_type": "text"
      },
      "source": [
        "<a href=\"https://colab.research.google.com/github/ProteintechLab/ProteintechLab/blob/main/ANOVA.ipynb\" target=\"_parent\"><img src=\"https://colab.research.google.com/assets/colab-badge.svg\" alt=\"Open In Colab\"/></a>"
      ]
    },
    {
      "cell_type": "code",
      "execution_count": null,
      "metadata": {
        "id": "KJ6e5GiEv9xd"
      },
      "outputs": [],
      "source": [
        "%load_ext rpy2.ipython"
      ]
    },
    {
      "cell_type": "code",
      "source": [
        "%%R\n",
        "library(tidyverse)\n",
        "library(readxl)\n",
        "library(broom)"
      ],
      "metadata": {
        "id": "kDeMGPb810x_"
      },
      "execution_count": 15,
      "outputs": []
    },
    {
      "cell_type": "markdown",
      "source": [
        "# load the data"
      ],
      "metadata": {
        "id": "ZMb5285k17yJ"
      }
    },
    {
      "cell_type": "code",
      "source": [
        "%%R\n",
        "download.file(\"https://raw.githubusercontent.com/ProteintechLab/Statistics/refs/heads/main/IL6.xlsx\", \"IL6\")"
      ],
      "metadata": {
        "id": "jDE3RBoz2EQ4"
      },
      "execution_count": null,
      "outputs": []
    },
    {
      "cell_type": "code",
      "source": [
        "%%R\n",
        "read_excel(\"IL6\")\n",
        "IL6"
      ],
      "metadata": {
        "colab": {
          "base_uri": "https://localhost:8080/"
        },
        "id": "oCE3gTYQ2d7C",
        "outputId": "a7be8a33-030f-45e5-d9cc-aca40e96ebf7"
      },
      "execution_count": 18,
      "outputs": [
        {
          "output_type": "stream",
          "name": "stdout",
          "text": [
            "# A tibble: 15 × 3\n",
            "   Treat      Conc   Day\n",
            "   <chr>     <dbl> <dbl>\n",
            " 1 Control   111.      1\n",
            " 2 Control   111.      1\n",
            " 3 Control   107.      1\n",
            " 4 PHA     18534.      1\n",
            " 5 PHA     19611.      1\n",
            " 6 PHA     19155.      1\n",
            " 7 PHA     19565.      1\n",
            " 8 PHA     21916.      1\n",
            " 9 Control    87.7     3\n",
            "10 Control   100.      3\n",
            "11 Control    94.2     3\n",
            "12 PHA     33330.      3\n",
            "13 PHA     39686.      3\n",
            "14 PHA     39892.      3\n",
            "15 PHA     41446.      3\n"
          ]
        }
      ]
    },
    {
      "cell_type": "code",
      "source": [
        "%%R\n",
        "IL6$Day<-factor(IL6$Day)"
      ],
      "metadata": {
        "id": "TeR1-WVQ2jkh"
      },
      "execution_count": 19,
      "outputs": []
    },
    {
      "cell_type": "markdown",
      "source": [
        "Make a group column"
      ],
      "metadata": {
        "id": "aTp83GtK2qZz"
      }
    },
    {
      "cell_type": "code",
      "source": [
        "%%R\n",
        "IL6$group<-factor(paste0(IL6$Treat,\"_\",IL6$Day))\n",
        "str(IL6)"
      ],
      "metadata": {
        "colab": {
          "base_uri": "https://localhost:8080/"
        },
        "id": "e0QxXP7v2s8x",
        "outputId": "d852eefc-6a93-4b8e-860f-d97855bdac7e"
      },
      "execution_count": 24,
      "outputs": [
        {
          "output_type": "stream",
          "name": "stdout",
          "text": [
            "tibble [15 × 4] (S3: tbl_df/tbl/data.frame)\n",
            " $ Treat: chr [1:15] \"Control\" \"Control\" \"Control\" \"PHA\" ...\n",
            " $ Conc : num [1:15] 111 111 107 18534 19611 ...\n",
            " $ Day  : Factor w/ 2 levels \"1\",\"3\": 1 1 1 1 1 1 1 1 2 2 ...\n",
            " $ group: Factor w/ 4 levels \"Control_1\",\"Control_3\",..: 1 1 1 3 3 3 3 3 2 2 ...\n"
          ]
        }
      ]
    },
    {
      "cell_type": "markdown",
      "source": [
        "# One-way ANOVA"
      ],
      "metadata": {
        "id": "B-xTS5Pf3JyV"
      }
    },
    {
      "cell_type": "code",
      "source": [
        "%%R\n",
        "IL6.aov <- aov(Conc ~ group, data = IL6)\n",
        "#Summary of the analysis\n",
        "tidy(IL6.aov)"
      ],
      "metadata": {
        "colab": {
          "base_uri": "https://localhost:8080/"
        },
        "id": "4ml_-0Ac3L-u",
        "outputId": "d3f905c9-b20b-459c-b58e-4d176ac952a5"
      },
      "execution_count": 25,
      "outputs": [
        {
          "output_type": "stream",
          "name": "stdout",
          "text": [
            "# A tibble: 2 × 6\n",
            "  term         df       sumsq      meansq statistic   p.value\n",
            "  <chr>     <dbl>       <dbl>       <dbl>     <dbl>     <dbl>\n",
            "1 group         3 3615389155. 1205129718.      293.  9.05e-11\n",
            "2 Residuals    11   45291786.    4117435.       NA  NA       \n"
          ]
        }
      ]
    },
    {
      "cell_type": "code",
      "source": [
        "%%R\n",
        "aLM <- lm(Conc ~ group, data = IL6)\n",
        "summary(aLM)\n",
        "#Calculate Rsquared value"
      ],
      "metadata": {
        "colab": {
          "base_uri": "https://localhost:8080/"
        },
        "id": "1A7Sx8QQ3cJ2",
        "outputId": "ae8d860b-c6f1-402d-e83a-b1f654ad79d1"
      },
      "execution_count": 26,
      "outputs": [
        {
          "output_type": "stream",
          "name": "stdout",
          "text": [
            "\n",
            "Call:\n",
            "lm(formula = Conc ~ group, data = IL6)\n",
            "\n",
            "Residuals:\n",
            "    Min      1Q  Median      3Q     Max \n",
            "-5258.0  -168.2     0.2   551.7  2857.3 \n",
            "\n",
            "Coefficients:\n",
            "               Estimate Std. Error t value Pr(>|t|)    \n",
            "(Intercept)      109.71    1171.53   0.094    0.927    \n",
            "groupControl_3   -15.68    1656.79  -0.009    0.993    \n",
            "groupPHA_1     19646.56    1481.88  13.258 4.15e-08 ***\n",
            "groupPHA_3     38478.64    1549.79  24.828 5.20e-11 ***\n",
            "---\n",
            "Signif. codes:  0 ‘***’ 0.001 ‘**’ 0.01 ‘*’ 0.05 ‘.’ 0.1 ‘ ’ 1\n",
            "\n",
            "Residual standard error: 2029 on 11 degrees of freedom\n",
            "Multiple R-squared:  0.9876,\tAdjusted R-squared:  0.9843 \n",
            "F-statistic: 292.7 on 3 and 11 DF,  p-value: 9.053e-11\n",
            "\n"
          ]
        }
      ]
    },
    {
      "cell_type": "code",
      "source": [
        "%%R\n",
        "tidy(TukeyHSD(IL6.aov, which = \"group\"))"
      ],
      "metadata": {
        "colab": {
          "base_uri": "https://localhost:8080/"
        },
        "id": "CfvvhXlq3uHC",
        "outputId": "396ef185-09c0-40fb-e71c-c9258bafcf6e"
      },
      "execution_count": 27,
      "outputs": [
        {
          "output_type": "stream",
          "name": "stdout",
          "text": [
            "# A tibble: 6 × 7\n",
            "  term  contrast            null.value estimate conf.low conf.high adj.p.value\n",
            "  <chr> <chr>                    <dbl>    <dbl>    <dbl>     <dbl>       <dbl>\n",
            "1 group Control_3-Control_1          0    -15.7   -5002.     4971.    1.00e+ 0\n",
            "2 group PHA_1-Control_1              0  19647.    15187.    24106.    2.13e- 7\n",
            "3 group PHA_3-Control_1              0  38479.    33814.    43143.    1.32e-10\n",
            "4 group PHA_1-Control_3              0  19662.    15202.    24122.    2.11e- 7\n",
            "5 group PHA_3-Control_3              0  38494.    33830.    43158.    1.31e-10\n",
            "6 group PHA_3-PHA_1                  0  18832.    14736.    22929.    1.37e- 7\n"
          ]
        }
      ]
    },
    {
      "cell_type": "markdown",
      "source": [
        "# Two-way ANOVA"
      ],
      "metadata": {
        "id": "-Du_MOak35Yp"
      }
    },
    {
      "cell_type": "code",
      "source": [
        "%%R\n",
        "IL6.aov2 <- aov(Conc ~ Day*Treat, data = IL6)\n",
        "#Summary of the analysis\n",
        "tidy(IL6.aov2)"
      ],
      "metadata": {
        "colab": {
          "base_uri": "https://localhost:8080/"
        },
        "id": "kZAcze-e36_y",
        "outputId": "c2bdc2f7-f1f8-4146-bf0e-b0d258357740"
      },
      "execution_count": 29,
      "outputs": [
        {
          "output_type": "stream",
          "name": "stdout",
          "text": [
            "# A tibble: 4 × 6\n",
            "  term         df       sumsq      meansq statistic   p.value\n",
            "  <chr>     <dbl>       <dbl>       <dbl>     <dbl>     <dbl>\n",
            "1 Day           1  351412065.  351412065.      85.3  1.62e- 6\n",
            "2 Treat         1 2945853491. 2945853491.     715.   2.32e-11\n",
            "3 Day:Treat     1  318123600.  318123600.      77.3  2.64e- 6\n",
            "4 Residuals    11   45291786.    4117435.      NA   NA       \n"
          ]
        }
      ]
    },
    {
      "cell_type": "code",
      "source": [
        "%%R\n",
        "a2LM <- lm(Conc ~ Day*Treat, data = IL6)\n",
        "summary(a2LM)"
      ],
      "metadata": {
        "colab": {
          "base_uri": "https://localhost:8080/"
        },
        "id": "smAEFoQt4Jjj",
        "outputId": "7d2d7327-f51d-4d45-df6f-2672cca4df3b"
      },
      "execution_count": 30,
      "outputs": [
        {
          "output_type": "stream",
          "name": "stdout",
          "text": [
            "\n",
            "Call:\n",
            "lm(formula = Conc ~ Day * Treat, data = IL6)\n",
            "\n",
            "Residuals:\n",
            "    Min      1Q  Median      3Q     Max \n",
            "-5258.0  -168.2     0.2   551.7  2857.3 \n",
            "\n",
            "Coefficients:\n",
            "              Estimate Std. Error t value Pr(>|t|)    \n",
            "(Intercept)     109.71    1171.53   0.094    0.927    \n",
            "Day3            -15.68    1656.79  -0.009    0.993    \n",
            "TreatPHA      19646.56    1481.88  13.258 4.15e-08 ***\n",
            "Day3:TreatPHA 18847.76    2144.25   8.790 2.64e-06 ***\n",
            "---\n",
            "Signif. codes:  0 ‘***’ 0.001 ‘**’ 0.01 ‘*’ 0.05 ‘.’ 0.1 ‘ ’ 1\n",
            "\n",
            "Residual standard error: 2029 on 11 degrees of freedom\n",
            "Multiple R-squared:  0.9876,\tAdjusted R-squared:  0.9843 \n",
            "F-statistic: 292.7 on 3 and 11 DF,  p-value: 9.053e-11\n",
            "\n"
          ]
        }
      ]
    }
  ]
}
